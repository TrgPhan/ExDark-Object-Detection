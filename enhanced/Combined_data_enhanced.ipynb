{
 "cells": [
  {
   "cell_type": "code",
   "execution_count": null,
   "id": "483158ea",
   "metadata": {},
   "outputs": [],
   "source": [
    "#libaries\n",
    "import os\n",
    "from bm3d import bm3d_rgb\n",
    "from bm3d import bm3d\n",
    "import numpy as np\n",
    "import cv2\n",
    "\n",
    "#parameters\n",
    "sigma = 25\n",
    "\n",
    "def denoise_image(input_path, output_path):\n",
    "    # Check if input file exists\n",
    "    if not os.path.isfile(input_path):\n",
    "        print(f\"Input file {input_path} does not exist.\")\n",
    "        return\n",
    "\n",
    "    # Read the image\n",
    "    img = cv2.imread(input_path)\n",
    "\n",
    "    # Check if the image is grayscale or RGB\n",
    "    if len(img.shape) == 2:  # Grayscale image\n",
    "        denoised_img = bm3d(img, sigma)\n",
    "    elif len(img.shape) == 3 and img.shape[2] == 3:  # RGB image\n",
    "        denoised_img = bm3d_rgb(img, sigma)\n",
    "    else:\n",
    "        print(\"Unsupported image format.\")\n",
    "        return\n",
    "\n",
    "    # Save the denoised image\n",
    "    cv2.imwrite(output_path, denoised_img)\n",
    "    print(f\"Denoised image saved to {output_path}.\")"
   ]
  },
  {
   "cell_type": "code",
   "execution_count": null,
   "id": "968fa6ad",
   "metadata": {},
   "outputs": [],
   "source": [
    "def denoise_dataset(input_dir, output_dir):\n",
    "    # Check if input directory exists\n",
    "    if not os.path.isdir(input_dir):\n",
    "        print(f\"Input directory {input_dir} does not exist.\")\n",
    "        return\n",
    "\n",
    "    # Create output directory if it doesn't exist\n",
    "    os.makedirs(output_dir, exist_ok=True)\n",
    "\n",
    "    # Iterate through all files in the input directory\n",
    "    for filename in os.listdir(input_dir):\n",
    "        input_path = os.path.join(input_dir, filename)\n",
    "        output_path = os.path.join(output_dir, filename)\n",
    "\n",
    "        # Denoise the image\n",
    "        denoise_image(input_path, output_path)\n",
    "        "
   ]
  },
  {
   "cell_type": "code",
   "execution_count": null,
   "id": "d916c6c6",
   "metadata": {},
   "outputs": [],
   "source": [
    "input_dirs = {\n",
    "    'Bicycle': '/kaggle/input/object-detection-exdark/ExDark/Bicycle',\n",
    "    'Boat': '/kaggle/input/object-detection-exdark/ExDark/Boat',\n",
    "    'Bottle': '/kaggle/input/object-detection-exdark/ExDark/Bottle',\n",
    "    'Bus': '/kaggle/input/object-detection-exdark/ExDark/Bus',\n",
    "    'Car': '/kaggle/input/object-detection-exdark/ExDark/Car',\n",
    "    'Cat': '/kaggle/input/object-detection-exdark/ExDark/Cat',\n",
    "    'Chair': '/kaggle/input/object-detection-exdark/ExDark/Chair',\n",
    "    'Cup': '/kaggle/input/object-detection-exdark/ExDark/Cup',\n",
    "    'Dog': '/kaggle/input/object-detection-exdark/ExDark/Dog',\n",
    "    'Motorbike': '/kaggle/input/object-detection-exdark/ExDark/Motorbike',\n",
    "    'People': '/kaggle/input/object-detection-exdark/ExDark/People',\n",
    "    'Table': '/kaggle/input/object-detection-exdark/ExDark/Table'\n",
    "}\n",
    "\n",
    "for category, input_dir in input_dirs.items():\n",
    "    output_dir = f'/kaggle/working/Enhanced_ExDark/{category}'\n",
    "    denoise_dataset(input_dir, output_dir)\n",
    "    "
   ]
  }
 ],
 "metadata": {
  "language_info": {
   "name": "python"
  }
 },
 "nbformat": 4,
 "nbformat_minor": 5
}
