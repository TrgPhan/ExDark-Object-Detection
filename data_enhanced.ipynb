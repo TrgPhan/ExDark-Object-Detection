{
 "cells": [
  {
   "cell_type": "code",
   "execution_count": null,
   "metadata": {
    "execution": {
     "iopub.execute_input": "2025-05-30T17:14:44.690547Z",
     "iopub.status.busy": "2025-05-30T17:14:44.690246Z",
     "iopub.status.idle": "2025-05-30T17:15:01.112387Z",
     "shell.execute_reply": "2025-05-30T17:15:01.110954Z",
     "shell.execute_reply.started": "2025-05-30T17:14:44.690525Z"
    },
    "trusted": true
   },
   "outputs": [],
   "source": [
    "!pip install git+https://github.com/arsenyinfo/EnlightenGAN-inference"
   ]
  },
  {
   "cell_type": "code",
   "execution_count": null,
   "metadata": {
    "execution": {
     "iopub.execute_input": "2025-05-30T17:15:12.135729Z",
     "iopub.status.busy": "2025-05-30T17:15:12.135243Z",
     "iopub.status.idle": "2025-05-30T17:15:12.142314Z",
     "shell.execute_reply": "2025-05-30T17:15:12.141034Z",
     "shell.execute_reply.started": "2025-05-30T17:15:12.135695Z"
    },
    "trusted": true
   },
   "outputs": [],
   "source": [
    "# libraries\n",
    "import numpy as np\n",
    "import cv2\n",
    "import os\n",
    "from PIL import Image\n",
    "import torchvision.transforms as transforms\n",
    "from enlighten_inference import EnlightenOnnxModel\n",
    "import cv2\n",
    "import torch"
   ]
  },
  {
   "cell_type": "code",
   "execution_count": null,
   "metadata": {
    "execution": {
     "iopub.execute_input": "2025-05-30T17:15:12.216967Z",
     "iopub.status.busy": "2025-05-30T17:15:12.216631Z",
     "iopub.status.idle": "2025-05-30T17:15:12.237496Z",
     "shell.execute_reply": "2025-05-30T17:15:12.236287Z",
     "shell.execute_reply.started": "2025-05-30T17:15:12.216937Z"
    },
    "trusted": true
   },
   "outputs": [],
   "source": [
    "os.makedirs('/kaggle/working/Enhanced_ExDark/Bicycle/', exist_ok=True)\n",
    "os.makedirs('/kaggle/working/Enhanced_ExDark/Boat/', exist_ok=True)\n",
    "os.makedirs('/kaggle/working/Enhanced_ExDark/Bottle/', exist_ok=True)\n",
    "os.makedirs('/kaggle/working/Enhanced_ExDark/Bus', exist_ok=True)\n",
    "os.makedirs('/kaggle/working/Enhanced_ExDark/Car', exist_ok=True)\n",
    "os.makedirs('/kaggle/working/Enhanced_ExDark/Cat', exist_ok=True)\n",
    "os.makedirs('/kaggle/working/Enhanced_ExDark/Chair', exist_ok=True)\n",
    "os.makedirs('/kaggle/working/Enhanced_ExDark/Cup', exist_ok=True)\n",
    "os.makedirs('/kaggle/working/Enhanced_ExDark/Dog', exist_ok=True)\n",
    "os.makedirs('/kaggle/working/Enhanced_ExDark/Motorbike', exist_ok=True)\n",
    "os.makedirs('/kaggle/working/Enhanced_ExDark/People', exist_ok=True)\n",
    "os.makedirs('/kaggle/working/Enhanced_ExDark/Table', exist_ok=True)\n"
   ]
  },
  {
   "cell_type": "code",
   "execution_count": null,
   "metadata": {
    "execution": {
     "iopub.execute_input": "2025-05-30T17:16:37.517477Z",
     "iopub.status.busy": "2025-05-30T17:16:37.517166Z",
     "iopub.status.idle": "2025-05-30T17:17:26.123683Z",
     "shell.execute_reply": "2025-05-30T17:17:26.121984Z",
     "shell.execute_reply.started": "2025-05-30T17:16:37.517456Z"
    },
    "trusted": true
   },
   "outputs": [],
   "source": [
    "model = EnlightenOnnxModel(providers = [\"CPUExecutionProvider\"])\n",
    "# Example usage\n",
    "input_dirs = {\n",
    "    'Bicycle': '/kaggle/input/object-detection-exdark/ExDark/Bicycle',\n",
    "    'Boat': '/kaggle/input/object-detection-exdark/ExDark/Boat',\n",
    "    'Bottle': '/kaggle/input/object-detection-exdark/ExDark/Bottle',\n",
    "    'Bus': '/kaggle/input/object-detection-exdark/ExDark/Bus',\n",
    "    'Car': '/kaggle/input/object-detection-exdark/ExDark/Car',\n",
    "    'Cat': '/kaggle/input/object-detection-exdark/ExDark/Cat',\n",
    "    'Chair': '/kaggle/input/object-detection-exdark/ExDark/Chair',\n",
    "    'Cup': '/kaggle/input/object-detection-exdark/ExDark/Cup',\n",
    "    'Dog': '/kaggle/input/object-detection-exdark/ExDark/Dog',\n",
    "    'Motorbike': '/kaggle/input/object-detection-exdark/ExDark/Motorbike',\n",
    "    'People': '/kaggle/input/object-detection-exdark/ExDark/People',\n",
    "    'Table': '/kaggle/input/object-detection-exdark/ExDark/Table'\n",
    "}\n",
    "\n",
    "def process_directory(input_dir, output_dir):\n",
    "    if not os.path.exists(output_dir):\n",
    "        os.makedirs(output_dir)\n",
    "\n",
    "    for filename in os.listdir(input_dir):\n",
    "        if filename.endswith('.png') or filename.endswith('.jpg'):\n",
    "            input_path = os.path.join(input_dir, filename)\n",
    "            img = cv2.imread(input_path)\n",
    "\n",
    "            # Process the image with EnlightenGAN\n",
    "            processed = model.predict(img)\n",
    "\n",
    "            # Save the enhanced image\n",
    "            output_path = os.path.join(output_dir, filename)\n",
    "            cv2.imwrite(output_path, processed)\n",
    "\n",
    "for category, input_dir in input_dirs.items():\n",
    "    output_dir = f'/kaggle/working/Enhanced_ExDark/{category}'\n",
    "    process_directory(input_dir, output_dir)"
   ]
  },
  {
   "cell_type": "code",
   "execution_count": null,
   "metadata": {
    "execution": {
     "iopub.status.busy": "2025-05-30T17:17:26.130609Z",
     "iopub.status.idle": "2025-05-30T17:17:26.130950Z",
     "shell.execute_reply": "2025-05-30T17:17:26.130833Z",
     "shell.execute_reply.started": "2025-05-30T17:17:26.130814Z"
    },
    "trusted": true
   },
   "outputs": [],
   "source": [
    "import os\n",
    "import subprocess\n",
    "from IPython.display import FileLink, display\n",
    "\n",
    "def download_file(path, download_file_name):\n",
    "    os.chdir('/kaggle/working/')\n",
    "    zip_name = f\"/kaggle/working/{download_file_name}.zip\"\n",
    "    command = f\"zip {zip_name} {path} -r\"\n",
    "    result = subprocess.run(command, shell=True, capture_output=True, text=True)\n",
    "    display(FileLink(f'{download_file_name}.zip'))\n",
    "\n",
    "download_file('/kaggle/working/', 'Enhanced_ExDark')"
   ]
  }
 ],
 "metadata": {
  "kaggle": {
   "accelerator": "none",
   "dataSources": [
    {
     "datasetId": 2140079,
     "sourceId": 3560720,
     "sourceType": "datasetVersion"
    }
   ],
   "dockerImageVersionId": 31040,
   "isGpuEnabled": false,
   "isInternetEnabled": true,
   "language": "python",
   "sourceType": "notebook"
  },
  "kernelspec": {
   "display_name": "base",
   "language": "python",
   "name": "python3"
  },
  "language_info": {
   "codemirror_mode": {
    "name": "ipython",
    "version": 3
   },
   "file_extension": ".py",
   "mimetype": "text/x-python",
   "name": "python",
   "nbconvert_exporter": "python",
   "pygments_lexer": "ipython3",
   "version": "3.12.4"
  }
 },
 "nbformat": 4,
 "nbformat_minor": 4
}
