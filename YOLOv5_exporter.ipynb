{
 "cells": [
  {
   "cell_type": "code",
   "execution_count": 17,
   "id": "8caa69d7",
   "metadata": {},
   "outputs": [],
   "source": [
    "import torch\n",
    "import cv2\n",
    "import os\n",
    "os.environ[\"KMP_DUPLICATE_LIB_OK\"]=\"TRUE\"\n",
    "import matplotlib.pyplot as plt\n",
    "import numpy as np"
   ]
  },
  {
   "cell_type": "code",
   "execution_count": null,
   "id": "f7ea759a",
   "metadata": {},
   "outputs": [],
   "source": [
    "def test_image_show(image_path):\n",
    "    image = cv2.imread(image_path)\n",
    "    image = cv2.cvtColor(image, cv2.COLOR_BGR2RGB)\n",
    "    plt.imshow(image)\n",
    "    plt.axis('off')\n",
    "    plt.show()"
   ]
  },
  {
   "cell_type": "code",
   "execution_count": 3,
   "id": "8eefb95b",
   "metadata": {},
   "outputs": [],
   "source": [
    "# def show_predictions(predictions, image_path, iamge_name):\n",
    "#     # Load the image\n",
    "#     image = cv2.imread(image_path)\n",
    "#     image = cv2.cvtColor(image, cv2.COLOR_BGR2RGB)\n",
    "\n",
    "#     # Create a figure and axis\n",
    "#     fig, ax = plt.subplots(1, figsize=(12, 8))\n",
    "#     ax.imshow(image)\n",
    "\n",
    "#     # Plot each prediction\n",
    "#     for pred in predictions:\n",
    "#         label, score, bbox = pred  # unpack tuple\n",
    "\n",
    "#         # Draw bounding box\n",
    "#         rect = plt.Rectangle((bbox[0], bbox[1]), bbox[2] - bbox[0], bbox[3] - bbox[1],\n",
    "#                              linewidth=2, edgecolor='red', facecolor='none')\n",
    "#         ax.add_patch(rect)\n",
    "\n",
    "#         # Add label and score\n",
    "#         ax.text(bbox[0], bbox[1] - 10, f'{label}: {score:.2f}', color='red', fontsize=12, \n",
    "#                 bbox=dict(facecolor='white', alpha=0.5, edgecolor='none'))\n",
    "\n",
    "#     plt.axis('off')\n",
    "#     plt.show()\n",
    "#     fig.savefig(os.path.join('/ExDark-Object-Detection/output', image_name))\n",
    "#     plt.close(fig)\n"
   ]
  },
  {
   "cell_type": "code",
   "execution_count": null,
   "id": "368c68db",
   "metadata": {},
   "outputs": [],
   "source": [
    "device = torch.device('cuda:0' if torch.cuda.is_available() else 'cpu')\n",
    "\n",
    "def detect_image_yolov5(image_path, model_path='/ExDark-Object-Detection/models/YOLOv5.pt'):\n",
    "    # Load YOLOv5 model\n",
    "    model = torch.hub.load('ultralytics/yolov5', 'custom', path=model_path, device=device)\n",
    "    model.eval()\n",
    "\n",
    "    # Đọc ảnh bằng OpenCV\n",
    "    img = cv2.imread(image_path)\n",
    "    if img is None:\n",
    "        raise ValueError(f\"Không thể đọc ảnh từ đường dẫn: {image_path}\")\n",
    "\n",
    "    # Convert BGR -> RGB vì OpenCV dùng BGR, YOLOv5 dùng RGB\n",
    "    img_rgb = cv2.cvtColor(img, cv2.COLOR_BGR2RGB)\n",
    "\n",
    "    # Dự đoán\n",
    "    results = model(img_rgb)\n",
    "\n",
    "    # Kết quả dạng pandas DataFrame\n",
    "    df = results.pandas().xyxy[0]  # bounding boxes theo dạng (x1, y1, x2, y2)\n",
    "\n",
    "    output = []\n",
    "    for _, row in df.iterrows():\n",
    "        label = row['name']\n",
    "        conf = float(row['confidence'])\n",
    "        bbox = (int(row['xmin']), int(row['ymin']), int(row['xmax']), int(row['ymax']))\n",
    "        output.append((label, conf, bbox))\n",
    "    \n",
    "    return output\n"
   ]
  },
  {
   "cell_type": "code",
   "execution_count": null,
   "id": "77c7d157",
   "metadata": {},
   "outputs": [
    {
     "name": "stderr",
     "output_type": "stream",
     "text": [
      "Using cache found in C:\\Users\\DELL Pre 7670/.cache\\torch\\hub\\ultralytics_yolov5_master\n",
      "YOLOv5  2025-6-4 Python-3.12.4 torch-2.6.0+cu124 CUDA:0 (NVIDIA RTX A1000 Laptop GPU, 4096MiB)\n",
      "\n",
      "Fusing layers... \n",
      "custom_YOLOv5s summary: 232 layers, 7257306 parameters, 0 gradients\n",
      "Adding AutoShape... \n"
     ]
    },
    {
     "name": "stdout",
     "output_type": "stream",
     "text": [
      "[]\n"
     ]
    },
    {
     "name": "stderr",
     "output_type": "stream",
     "text": [
      "C:\\Users\\DELL Pre 7670/.cache\\torch\\hub\\ultralytics_yolov5_master\\models\\common.py:906: FutureWarning: `torch.cuda.amp.autocast(args...)` is deprecated. Please use `torch.amp.autocast('cuda', args...)` instead.\n",
      "  with amp.autocast(autocast):\n"
     ]
    }
   ],
   "source": [
    "# Use the default YOLOv5s model if custom model is not available\n",
    "output = detect_image_yolov5('/ExDark-Object-Detection/input/.jpg')\n",
    "print(output) # still dunno why i cant print the prediction plot :))))"
   ]
  }
 ],
 "metadata": {
  "kernelspec": {
   "display_name": "base",
   "language": "python",
   "name": "python3"
  },
  "language_info": {
   "codemirror_mode": {
    "name": "ipython",
    "version": 3
   },
   "file_extension": ".py",
   "mimetype": "text/x-python",
   "name": "python",
   "nbconvert_exporter": "python",
   "pygments_lexer": "ipython3",
   "version": "3.12.4"
  }
 },
 "nbformat": 4,
 "nbformat_minor": 5
}
